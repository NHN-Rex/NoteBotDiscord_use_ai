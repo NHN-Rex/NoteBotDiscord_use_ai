{
 "cells": [
  {
   "cell_type": "code",
   "execution_count": 2,
   "id": "20189de2",
   "metadata": {},
   "outputs": [
    {
     "name": "stdout",
     "output_type": "stream",
     "text": [
      "{'harmonious_fox_17849': 'Nghĩa', 'doufang_8': 'Phương', 'ann_nguyen123': 'Ngân'}\n",
      "['Ngân', 'Phương', 'Đạt', 'Nhi', 'Nghĩa']\n"
     ]
    }
   ],
   "source": [
    "import name\n",
    "\n",
    "print(name.username)\n",
    "print(name.know_names)"
   ]
  }
 ],
 "metadata": {
  "kernelspec": {
   "display_name": "venv_ai",
   "language": "python",
   "name": "python3"
  },
  "language_info": {
   "codemirror_mode": {
    "name": "ipython",
    "version": 3
   },
   "file_extension": ".py",
   "mimetype": "text/x-python",
   "name": "python",
   "nbconvert_exporter": "python",
   "pygments_lexer": "ipython3",
   "version": "3.10.0"
  }
 },
 "nbformat": 4,
 "nbformat_minor": 5
}
